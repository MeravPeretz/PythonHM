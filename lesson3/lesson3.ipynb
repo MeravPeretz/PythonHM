{
 "cells": [
  {
   "cell_type": "code",
   "execution_count": null,
   "id": "6d52368e-a944-49e3-80b7-90215684a905",
   "metadata": {},
   "outputs": [],
   "source": []
  },
  {
   "cell_type": "code",
   "execution_count": 6,
   "id": "90d1f292-b636-4407-91b7-853582be7268",
   "metadata": {},
   "outputs": [
    {
     "name": "stdout",
     "output_type": "stream",
     "text": [
      "Requirement already satisfied: numpy in c:\\python310\\lib\\site-packages (1.26.4)\n",
      "Note: you may need to restart the kernel to use updated packages.\n"
     ]
    },
    {
     "name": "stderr",
     "output_type": "stream",
     "text": [
      "\n",
      "[notice] A new release of pip is available: 23.3.2 -> 24.0\n",
      "[notice] To update, run: python.exe -m pip install --upgrade pip\n"
     ]
    }
   ],
   "source": [
    "pip install numpy"
   ]
  },
  {
   "cell_type": "code",
   "execution_count": 8,
   "id": "e6023dc8-5e4d-4bd5-9bbc-69886b4f7011",
   "metadata": {},
   "outputs": [],
   "source": [
    "import numpy as np\n"
   ]
  },
  {
   "cell_type": "code",
   "execution_count": 9,
   "id": "9abe5a4e-c71f-4527-8308-b62a70c73532",
   "metadata": {},
   "outputs": [
    {
     "data": {
      "text/plain": [
       "array([31, 16, 13, 16, 11, 21,  1, 48, 37, 32])"
      ]
     },
     "execution_count": 9,
     "metadata": {},
     "output_type": "execute_result"
    }
   ],
   "source": [
    "arr=np.random.randint(1, 50,size=(10))\n",
    "arr\n"
   ]
  },
  {
   "cell_type": "code",
   "execution_count": 10,
   "id": "719387ec-0b26-4343-8167-fb153df37a95",
   "metadata": {},
   "outputs": [
    {
     "data": {
      "text/plain": [
       "1"
      ]
     },
     "execution_count": 10,
     "metadata": {},
     "output_type": "execute_result"
    }
   ],
   "source": [
    "arr.ndim"
   ]
  },
  {
   "cell_type": "code",
   "execution_count": 16,
   "id": "d7c47ed8-782d-4606-9bbb-ca4fea7f7fcf",
   "metadata": {},
   "outputs": [
    {
     "data": {
      "text/plain": [
       "(10,)"
      ]
     },
     "execution_count": 16,
     "metadata": {},
     "output_type": "execute_result"
    }
   ],
   "source": [
    "arr.shape"
   ]
  },
  {
   "cell_type": "code",
   "execution_count": 17,
   "id": "7eeaa6c3-d284-4924-ab03-5bf7ddde636e",
   "metadata": {},
   "outputs": [
    {
     "data": {
      "text/plain": [
       "10"
      ]
     },
     "execution_count": 17,
     "metadata": {},
     "output_type": "execute_result"
    }
   ],
   "source": [
    "arr.size"
   ]
  },
  {
   "cell_type": "raw",
   "id": "5c4d969e-53ab-4c50-afc1-f93609b02d8c",
   "metadata": {},
   "source": [
    "מערך דו מימדי"
   ]
  },
  {
   "cell_type": "code",
   "execution_count": 18,
   "id": "07c1c585-bc07-4407-9068-a617b819d629",
   "metadata": {},
   "outputs": [
    {
     "data": {
      "text/plain": [
       "array([[53, 79, 77, 55, 46],\n",
       "       [32, 39, 58, 85, 58]])"
      ]
     },
     "execution_count": 18,
     "metadata": {},
     "output_type": "execute_result"
    }
   ],
   "source": [
    "arr=np.random.randint(10, 100,size=(2,5))\n",
    "arr\n"
   ]
  },
  {
   "cell_type": "code",
   "execution_count": 19,
   "id": "39ed3115-564e-4df3-a689-fcd4f735f9e2",
   "metadata": {},
   "outputs": [
    {
     "data": {
      "text/plain": [
       "(2, 5)"
      ]
     },
     "execution_count": 19,
     "metadata": {},
     "output_type": "execute_result"
    }
   ],
   "source": [
    "arr.shape\n"
   ]
  },
  {
   "cell_type": "markdown",
   "id": "e8725d8f-3672-4de3-95ad-5c12965ad943",
   "metadata": {},
   "source": [
    "<h3>exercise 2</h3>"
   ]
  },
  {
   "cell_type": "markdown",
   "id": "5a5b8f69-01fd-49ef-9697-05bfbafb7105",
   "metadata": {},
   "source": [
    "<h4> A. צרי מערך באורך 10 של מספרים שלמים רנדומליים בין 1 ל-50 וחשבי את הממוצע של המספרים</h4>"
   ]
  },
  {
   "cell_type": "code",
   "execution_count": 14,
   "id": "93584a32-4346-4b52-9c1a-23afbb3e03c0",
   "metadata": {},
   "outputs": [
    {
     "data": {
      "text/plain": [
       "array([31,  2, 30, 48,  4, 21, 24, 31, 15, 21])"
      ]
     },
     "execution_count": 14,
     "metadata": {},
     "output_type": "execute_result"
    }
   ],
   "source": [
    "random_int_array = np.random.randint(1, 50, size=(10))\n",
    "random_int_array"
   ]
  },
  {
   "cell_type": "markdown",
   "id": "64da5696-257e-4848-93da-9f8efd8e28ae",
   "metadata": {},
   "source": [
    "<h4>B צרי שני מערכים דו מימדיים בגודל 3, חברי אותם, ובדקי מה הממוצע של התוצאה</h4>"
   ]
  },
  {
   "cell_type": "code",
   "execution_count": 15,
   "id": "08f8bf6d-e7e1-451f-a69b-635679850070",
   "metadata": {},
   "outputs": [
    {
     "data": {
      "text/plain": [
       "array([[1, 2, 3],\n",
       "       [1, 2, 3],\n",
       "       [1, 2, 3]])"
      ]
     },
     "execution_count": 15,
     "metadata": {},
     "output_type": "execute_result"
    }
   ],
   "source": [
    "a = np.array([[1, 2, 3],[1,2,3],[1,2,3]])\n",
    "a"
   ]
  },
  {
   "cell_type": "code",
   "execution_count": 17,
   "id": "7444541a-a2e4-4987-ace6-90fc2c49ffc2",
   "metadata": {},
   "outputs": [
    {
     "data": {
      "text/plain": [
       "array([[1, 2, 3],\n",
       "       [4, 5, 6],\n",
       "       [7, 8, 9]])"
      ]
     },
     "execution_count": 17,
     "metadata": {},
     "output_type": "execute_result"
    }
   ],
   "source": [
    "b = np.array([[1, 2, 3],[4,5,6,],[7,8,9]])\n",
    "b"
   ]
  },
  {
   "cell_type": "code",
   "execution_count": 18,
   "id": "bdcf021d-2e80-4cda-a370-7388aebcc32a",
   "metadata": {},
   "outputs": [
    {
     "data": {
      "text/plain": [
       "array([[ 2,  4,  6],\n",
       "       [ 5,  7,  9],\n",
       "       [ 8, 10, 12]])"
      ]
     },
     "execution_count": 18,
     "metadata": {},
     "output_type": "execute_result"
    }
   ],
   "source": [
    "a+b"
   ]
  },
  {
   "cell_type": "markdown",
   "id": "3070e41e-e8ce-4b23-abd3-16172ec63dea",
   "metadata": {},
   "source": [
    "<h4> C. צרי מערך של 20 מספרים שלמים רנדומליים בין 1 ל-100. מצאי את כל המספרים שגדולים מ-50 במערך זה.</h4>"
   ]
  },
  {
   "cell_type": "code",
   "execution_count": 19,
   "id": "8252972d-69df-494f-b311-e08011913ec0",
   "metadata": {},
   "outputs": [
    {
     "data": {
      "text/plain": [
       "array([25, 19, 58, 81, 81, 11, 50, 75, 24, 16, 87, 97, 50, 61, 30, 44, 33,\n",
       "       42, 87, 20])"
      ]
     },
     "execution_count": 19,
     "metadata": {},
     "output_type": "execute_result"
    }
   ],
   "source": [
    "random_int_array2 = np.random.randint(1, 100, size=(20))\n",
    "random_int_array2"
   ]
  },
  {
   "cell_type": "code",
   "execution_count": 22,
   "id": "cbfb177e-fb86-4b0d-a4c9-6c425c6063be",
   "metadata": {},
   "outputs": [
    {
     "data": {
      "text/plain": [
       "array([58, 81, 81, 75, 87, 97, 61, 87])"
      ]
     },
     "execution_count": 22,
     "metadata": {},
     "output_type": "execute_result"
    }
   ],
   "source": [
    "condition=random_int_array2>50\n",
    "newArr=random_int_array2[condition]\n",
    "newArr"
   ]
  },
  {
   "cell_type": "markdown",
   "id": "f4cc02e9-5aae-4fa6-b527-0e958beede36",
   "metadata": {},
   "source": [
    "<h4>D. צרי מערך של מספרים מ-1 עד 10. ערבבי את המערך ולאחר מכן בחרי באופן אקראי  אלמנטים ממנו </h4>"
   ]
  },
  {
   "cell_type": "code",
   "execution_count": 26,
   "id": "a46780dc-0ec9-481b-b28e-1952405e1288",
   "metadata": {},
   "outputs": [
    {
     "data": {
      "text/plain": [
       "array([ 8,  2, 10,  3,  1,  4,  7,  6,  9,  5])"
      ]
     },
     "execution_count": 26,
     "metadata": {},
     "output_type": "execute_result"
    }
   ],
   "source": [
    "arr = np.array([1, 2, 3,4,5,6,7,8,9,10])\n",
    "np.random.shuffle(arr)\n",
    "arr"
   ]
  },
  {
   "cell_type": "code",
   "execution_count": 27,
   "id": "79f7baf5-1a76-447a-9aad-01aecfb91050",
   "metadata": {},
   "outputs": [
    {
     "data": {
      "text/plain": [
       "array([ 8,  2, 10,  4,  6])"
      ]
     },
     "execution_count": 27,
     "metadata": {},
     "output_type": "execute_result"
    }
   ],
   "source": [
    "cond=arr%2==0\n",
    "arrCond=arr[cond]\n",
    "arrCond"
   ]
  },
  {
   "cell_type": "code",
   "execution_count": null,
   "id": "3f905534-56a0-4485-ae9c-ff118fb48241",
   "metadata": {},
   "outputs": [],
   "source": []
  }
 ],
 "metadata": {
  "kernelspec": {
   "display_name": "Python 3 (ipykernel)",
   "language": "python",
   "name": "python3"
  },
  "language_info": {
   "codemirror_mode": {
    "name": "ipython",
    "version": 3
   },
   "file_extension": ".py",
   "mimetype": "text/x-python",
   "name": "python",
   "nbconvert_exporter": "python",
   "pygments_lexer": "ipython3",
   "version": "3.10.8"
  }
 },
 "nbformat": 4,
 "nbformat_minor": 5
}
